{
 "cells": [
  {
   "cell_type": "code",
   "execution_count": 33,
   "metadata": {
    "execution": {
     "iopub.execute_input": "2023-01-30T06:40:47.365679Z",
     "iopub.status.busy": "2023-01-30T06:40:47.365047Z",
     "iopub.status.idle": "2023-01-30T06:41:00.656329Z",
     "shell.execute_reply": "2023-01-30T06:41:00.655174Z",
     "shell.execute_reply.started": "2023-01-30T06:40:47.365571Z"
    }
   },
   "outputs": [],
   "source": [
    "import pandas as pd\n",
    "import numpy as np\n",
    "import seaborn as sns\n",
    "import matplotlib.pyplot as plt\n",
    "\n",
    "import warnings\n",
    "import os\n",
    "import matplotlib.pyplot as plt\n",
    "import numpy as np\n",
    "import pandas as pd\n",
    "import seaborn as sns\n",
    "from matplotlib import rcParams\n",
    "\n",
    "import matplotlib.pyplot as plt\n",
    "from matplotlib import rcParams\n",
    "\n",
    "rcParams[\"xtick.labelsize\"] = 15\n",
    "rcParams[\"ytick.labelsize\"] = 15\n",
    "rcParams[\"legend.fontsize\"] = \"small\"\n",
    "\n",
    "pd.set_option(\"precision\", 2)\n",
    "warnings.filterwarnings(\"ignore\")\n",
    "\n",
    "%matplotlib inline\n"
   ]
  },
  {
   "cell_type": "code",
   "execution_count": 34,
   "metadata": {},
   "outputs": [
    {
     "name": "stdout",
     "output_type": "stream",
     "text": [
      "C:\\Users\\Rucha Wete\\Downloads\n"
     ]
    }
   ],
   "source": [
    "cd \"C:\\Users\\Rucha Wete\\Downloads\"\n"
   ]
  },
  {
   "cell_type": "code",
   "execution_count": 35,
   "metadata": {
    "execution": {
     "iopub.execute_input": "2023-01-30T06:41:00.65921Z",
     "iopub.status.busy": "2023-01-30T06:41:00.658357Z",
     "iopub.status.idle": "2023-01-30T06:41:00.717339Z",
     "shell.execute_reply": "2023-01-30T06:41:00.715906Z",
     "shell.execute_reply.started": "2023-01-30T06:41:00.659166Z"
    }
   },
   "outputs": [
    {
     "data": {
      "text/html": [
       "<div>\n",
       "<style scoped>\n",
       "    .dataframe tbody tr th:only-of-type {\n",
       "        vertical-align: middle;\n",
       "    }\n",
       "\n",
       "    .dataframe tbody tr th {\n",
       "        vertical-align: top;\n",
       "    }\n",
       "\n",
       "    .dataframe thead th {\n",
       "        text-align: right;\n",
       "    }\n",
       "</style>\n",
       "<table border=\"1\" class=\"dataframe\">\n",
       "  <thead>\n",
       "    <tr style=\"text-align: right;\">\n",
       "      <th></th>\n",
       "      <th>STN\\nCode</th>\n",
       "      <th>Name of Monitoring Location</th>\n",
       "      <th>Type Water Body</th>\n",
       "      <th>State Name</th>\n",
       "      <th>Temperature\\n?C (Min)</th>\n",
       "      <th>Temperature\\n?C (Max)</th>\n",
       "      <th>Dissolved Oxygen (mg/L) (Min)</th>\n",
       "      <th>Dissolved Oxygen (mg/L) (Max)</th>\n",
       "      <th>pH (Min)</th>\n",
       "      <th>pH (Max)</th>\n",
       "      <th>Conductivity (?mhos/cm) (Min)</th>\n",
       "      <th>Conductivity (?mhos/cm) (Max)</th>\n",
       "      <th>BOD (mg/L) (Min)</th>\n",
       "      <th>BOD (mg/L) (Max)</th>\n",
       "      <th>Nitrate N + Nitrite N(mg/L) (Min)</th>\n",
       "      <th>Nitrate N + Nitrite N(mg/L) (Max)</th>\n",
       "      <th>Fecal Coliform (MPN/100ml) (Min)</th>\n",
       "      <th>Fecal Coliform (MPN/100ml) (Max)</th>\n",
       "      <th>Total Coliform (MPN/100ml) (Min)</th>\n",
       "      <th>Total Coliform (MPN/100ml) (Max)</th>\n",
       "    </tr>\n",
       "  </thead>\n",
       "  <tbody>\n",
       "    <tr>\n",
       "      <th>0</th>\n",
       "      <td>4368.0</td>\n",
       "      <td>KOLLERU LAKE KOKKIRAYALANKA (V), KAILALUR (M)</td>\n",
       "      <td>LAKE</td>\n",
       "      <td>ANDHRA PRADESH</td>\n",
       "      <td>24.0</td>\n",
       "      <td>27.0</td>\n",
       "      <td>3.2</td>\n",
       "      <td>6.5</td>\n",
       "      <td>7.0</td>\n",
       "      <td>8.0</td>\n",
       "      <td>245</td>\n",
       "      <td>5160</td>\n",
       "      <td>1.6</td>\n",
       "      <td>3.2</td>\n",
       "      <td>1.02</td>\n",
       "      <td>3.60</td>\n",
       "      <td>9</td>\n",
       "      <td>21</td>\n",
       "      <td>120</td>\n",
       "      <td>210</td>\n",
       "    </tr>\n",
       "    <tr>\n",
       "      <th>1</th>\n",
       "      <td>2353.0</td>\n",
       "      <td>KONDAKARLA-AAVA LAKE, PARAWADA PHARMA CITY, VI...</td>\n",
       "      <td>LAKE</td>\n",
       "      <td>ANDHRA PRADESH</td>\n",
       "      <td>26.0</td>\n",
       "      <td>29.0</td>\n",
       "      <td>3.0</td>\n",
       "      <td>6.8</td>\n",
       "      <td>6.9</td>\n",
       "      <td>7.8</td>\n",
       "      <td>599</td>\n",
       "      <td>1179</td>\n",
       "      <td>1.9</td>\n",
       "      <td>4.6</td>\n",
       "      <td>0.77</td>\n",
       "      <td>3.56</td>\n",
       "      <td>15</td>\n",
       "      <td>23</td>\n",
       "      <td>150</td>\n",
       "      <td>240</td>\n",
       "    </tr>\n",
       "    <tr>\n",
       "      <th>2</th>\n",
       "      <td>1790.0</td>\n",
       "      <td>PULICATE LAKE , NELLORE DIST</td>\n",
       "      <td>LAKE</td>\n",
       "      <td>ANDHRA PRADESH</td>\n",
       "      <td>18.0</td>\n",
       "      <td>24.0</td>\n",
       "      <td>4.2</td>\n",
       "      <td>6.0</td>\n",
       "      <td>7.2</td>\n",
       "      <td>8.2</td>\n",
       "      <td>28000</td>\n",
       "      <td>56900</td>\n",
       "      <td>2.4</td>\n",
       "      <td>2.8</td>\n",
       "      <td>1.20</td>\n",
       "      <td>1.64</td>\n",
       "      <td>3</td>\n",
       "      <td>3</td>\n",
       "      <td>47</td>\n",
       "      <td>150</td>\n",
       "    </tr>\n",
       "    <tr>\n",
       "      <th>3</th>\n",
       "      <td>4391.0</td>\n",
       "      <td>CHENGAMBAKAM TANK IN SRI CITY SEZ,\\nTIRUPATHI</td>\n",
       "      <td>TANK</td>\n",
       "      <td>ANDHRA PRADESH</td>\n",
       "      <td>22.0</td>\n",
       "      <td>29.0</td>\n",
       "      <td>5.4</td>\n",
       "      <td>6.2</td>\n",
       "      <td>6.3</td>\n",
       "      <td>7.9</td>\n",
       "      <td>180</td>\n",
       "      <td>476</td>\n",
       "      <td>1.0</td>\n",
       "      <td>2.5</td>\n",
       "      <td>0.34</td>\n",
       "      <td>2.30</td>\n",
       "      <td>24</td>\n",
       "      <td>365</td>\n",
       "      <td>170</td>\n",
       "      <td>549</td>\n",
       "    </tr>\n",
       "    <tr>\n",
       "      <th>4</th>\n",
       "      <td>4921.0</td>\n",
       "      <td>ANNAMAYYA PROJECT ON CHEYYERU\\nRESERVOIR</td>\n",
       "      <td>Wetland</td>\n",
       "      <td>ANDHRA PRADESH</td>\n",
       "      <td>21.0</td>\n",
       "      <td>30.0</td>\n",
       "      <td>5.4</td>\n",
       "      <td>6.5</td>\n",
       "      <td>7.3</td>\n",
       "      <td>8.0</td>\n",
       "      <td>496</td>\n",
       "      <td>734</td>\n",
       "      <td>1.0</td>\n",
       "      <td>2.3</td>\n",
       "      <td>0.35</td>\n",
       "      <td>1.00</td>\n",
       "      <td>43</td>\n",
       "      <td>289</td>\n",
       "      <td>240</td>\n",
       "      <td>727</td>\n",
       "    </tr>\n",
       "  </tbody>\n",
       "</table>\n",
       "</div>"
      ],
      "text/plain": [
       "   STN\\nCode                        Name of Monitoring Location  \\\n",
       "0     4368.0      KOLLERU LAKE KOKKIRAYALANKA (V), KAILALUR (M)   \n",
       "1     2353.0  KONDAKARLA-AAVA LAKE, PARAWADA PHARMA CITY, VI...   \n",
       "2     1790.0                       PULICATE LAKE , NELLORE DIST   \n",
       "3     4391.0      CHENGAMBAKAM TANK IN SRI CITY SEZ,\\nTIRUPATHI   \n",
       "4     4921.0           ANNAMAYYA PROJECT ON CHEYYERU\\nRESERVOIR   \n",
       "\n",
       "  Type Water Body      State Name  Temperature\\n?C (Min)  \\\n",
       "0            LAKE  ANDHRA PRADESH                   24.0   \n",
       "1            LAKE  ANDHRA PRADESH                   26.0   \n",
       "2            LAKE  ANDHRA PRADESH                   18.0   \n",
       "3            TANK  ANDHRA PRADESH                   22.0   \n",
       "4         Wetland  ANDHRA PRADESH                   21.0   \n",
       "\n",
       "   Temperature\\n?C (Max) Dissolved Oxygen (mg/L) (Min)  \\\n",
       "0                   27.0                           3.2   \n",
       "1                   29.0                           3.0   \n",
       "2                   24.0                           4.2   \n",
       "3                   29.0                           5.4   \n",
       "4                   30.0                           5.4   \n",
       "\n",
       "  Dissolved Oxygen (mg/L) (Max) pH (Min)  pH (Max)  \\\n",
       "0                           6.5      7.0       8.0   \n",
       "1                           6.8      6.9       7.8   \n",
       "2                           6.0      7.2       8.2   \n",
       "3                           6.2      6.3       7.9   \n",
       "4                           6.5      7.3       8.0   \n",
       "\n",
       "  Conductivity (?mhos/cm) (Min) Conductivity (?mhos/cm) (Max)  \\\n",
       "0                           245                          5160   \n",
       "1                           599                          1179   \n",
       "2                         28000                         56900   \n",
       "3                           180                           476   \n",
       "4                           496                           734   \n",
       "\n",
       "  BOD (mg/L) (Min) BOD (mg/L) (Max) Nitrate N + Nitrite N(mg/L) (Min)  \\\n",
       "0              1.6              3.2                              1.02   \n",
       "1              1.9              4.6                              0.77   \n",
       "2              2.4              2.8                              1.20   \n",
       "3              1.0              2.5                              0.34   \n",
       "4              1.0              2.3                              0.35   \n",
       "\n",
       "  Nitrate N + Nitrite N(mg/L) (Max) Fecal Coliform (MPN/100ml) (Min)  \\\n",
       "0                              3.60                                9   \n",
       "1                              3.56                               15   \n",
       "2                              1.64                                3   \n",
       "3                              2.30                               24   \n",
       "4                              1.00                               43   \n",
       "\n",
       "  Fecal Coliform (MPN/100ml) (Max) Total Coliform (MPN/100ml) (Min)  \\\n",
       "0                               21                              120   \n",
       "1                               23                              150   \n",
       "2                                3                               47   \n",
       "3                              365                              170   \n",
       "4                              289                              240   \n",
       "\n",
       "  Total Coliform (MPN/100ml) (Max)  \n",
       "0                              210  \n",
       "1                              240  \n",
       "2                              150  \n",
       "3                              549  \n",
       "4                              727  "
      ]
     },
     "execution_count": 35,
     "metadata": {},
     "output_type": "execute_result"
    }
   ],
   "source": [
    "df = pd.read_csv('Water_pond_tanks_2021.csv', encoding='latin1')\n",
    "df.head()"
   ]
  },
  {
   "cell_type": "code",
   "execution_count": 36,
   "metadata": {},
   "outputs": [
    {
     "data": {
      "text/plain": [
       "(620, 20)"
      ]
     },
     "execution_count": 36,
     "metadata": {},
     "output_type": "execute_result"
    }
   ],
   "source": [
    "df.shape"
   ]
  },
  {
   "cell_type": "code",
   "execution_count": 37,
   "metadata": {},
   "outputs": [
    {
     "name": "stdout",
     "output_type": "stream",
     "text": [
      "3.7.6\n"
     ]
    }
   ],
   "source": [
    "from platform import python_version\n",
    "\n",
    "print(python_version())"
   ]
  },
  {
   "cell_type": "code",
   "execution_count": 38,
   "metadata": {
    "execution": {
     "iopub.execute_input": "2023-01-30T06:41:00.720552Z",
     "iopub.status.busy": "2023-01-30T06:41:00.719203Z",
     "iopub.status.idle": "2023-01-30T06:41:00.749935Z",
     "shell.execute_reply": "2023-01-30T06:41:00.748382Z",
     "shell.execute_reply.started": "2023-01-30T06:41:00.72051Z"
    }
   },
   "outputs": [
    {
     "name": "stdout",
     "output_type": "stream",
     "text": [
      "<class 'pandas.core.frame.DataFrame'>\n",
      "RangeIndex: 620 entries, 0 to 619\n",
      "Data columns (total 20 columns):\n",
      " #   Column                             Non-Null Count  Dtype  \n",
      "---  ------                             --------------  -----  \n",
      " 0   STN\n",
      "Code                           619 non-null    float64\n",
      " 1   Name of Monitoring Location        620 non-null    object \n",
      " 2   Type Water Body                    620 non-null    object \n",
      " 3   State Name                         620 non-null    object \n",
      " 4   Temperature\n",
      "?C (Min)               617 non-null    float64\n",
      " 5   Temperature\n",
      "?C (Max)               617 non-null    float64\n",
      " 6   Dissolved Oxygen (mg/L) (Min)      620 non-null    object \n",
      " 7   Dissolved Oxygen (mg/L) (Max)      620 non-null    object \n",
      " 8   pH (Min)                           620 non-null    object \n",
      " 9   pH (Max)                           620 non-null    float64\n",
      " 10  Conductivity (?mhos/cm) (Min)      618 non-null    object \n",
      " 11  Conductivity (?mhos/cm) (Max)      618 non-null    object \n",
      " 12  BOD (mg/L) (Min)                   620 non-null    object \n",
      " 13  BOD (mg/L) (Max)                   620 non-null    object \n",
      " 14  Nitrate N + Nitrite N(mg/L) (Min)  620 non-null    object \n",
      " 15  Nitrate N + Nitrite N(mg/L) (Max)  620 non-null    object \n",
      " 16  Fecal Coliform (MPN/100ml) (Min)   619 non-null    object \n",
      " 17  Fecal Coliform (MPN/100ml) (Max)   619 non-null    object \n",
      " 18  Total Coliform (MPN/100ml) (Min)   619 non-null    object \n",
      " 19  Total Coliform (MPN/100ml) (Max)   619 non-null    object \n",
      "dtypes: float64(4), object(16)\n",
      "memory usage: 97.0+ KB\n"
     ]
    }
   ],
   "source": [
    "df.info()"
   ]
  },
  {
   "cell_type": "code",
   "execution_count": 39,
   "metadata": {},
   "outputs": [
    {
     "data": {
      "text/plain": [
       "Index(['STN\\nCode', 'Temperature\\n?C (Min)', 'Temperature\\n?C (Max)',\n",
       "       'pH (Max)'],\n",
       "      dtype='object')"
      ]
     },
     "execution_count": 39,
     "metadata": {},
     "output_type": "execute_result"
    }
   ],
   "source": [
    "# This will show the name of the column in which there are data as an object\n",
    "df_numerical = df.select_dtypes(include=[float])\n",
    "\n",
    "df_numerical.columns\n",
    "\n"
   ]
  },
  {
   "cell_type": "code",
   "execution_count": 40,
   "metadata": {},
   "outputs": [
    {
     "data": {
      "text/plain": [
       "Index(['Name of Monitoring Location', 'Type Water Body', 'State Name',\n",
       "       'Dissolved Oxygen (mg/L) (Min)', 'Dissolved Oxygen (mg/L) (Max)',\n",
       "       'pH (Min)', 'Conductivity (?mhos/cm) (Min)',\n",
       "       'Conductivity (?mhos/cm) (Max)', 'BOD (mg/L) (Min)', 'BOD (mg/L) (Max)',\n",
       "       'Nitrate N + Nitrite N(mg/L) (Min)',\n",
       "       'Nitrate N + Nitrite N(mg/L) (Max)', 'Fecal Coliform (MPN/100ml) (Min)',\n",
       "       'Fecal Coliform (MPN/100ml) (Max)', 'Total Coliform (MPN/100ml) (Min)',\n",
       "       'Total Coliform (MPN/100ml) (Max)'],\n",
       "      dtype='object')"
      ]
     },
     "execution_count": 40,
     "metadata": {},
     "output_type": "execute_result"
    }
   ],
   "source": [
    "df_categorical = df.select_dtypes(include=[object])\n",
    "df_categorical.columns"
   ]
  },
  {
   "cell_type": "code",
   "execution_count": 41,
   "metadata": {
    "execution": {
     "iopub.execute_input": "2023-01-30T06:41:00.753131Z",
     "iopub.status.busy": "2023-01-30T06:41:00.75273Z",
     "iopub.status.idle": "2023-01-30T06:41:00.818776Z",
     "shell.execute_reply": "2023-01-30T06:41:00.817593Z",
     "shell.execute_reply.started": "2023-01-30T06:41:00.753095Z"
    }
   },
   "outputs": [
    {
     "name": "stdout",
     "output_type": "stream",
     "text": [
      "<class 'pandas.core.frame.DataFrame'>\n",
      "RangeIndex: 620 entries, 0 to 619\n",
      "Data columns (total 20 columns):\n",
      " #   Column                             Non-Null Count  Dtype  \n",
      "---  ------                             --------------  -----  \n",
      " 0   STN\n",
      "Code                           619 non-null    float64\n",
      " 1   Name of Monitoring Location        620 non-null    object \n",
      " 2   Type Water Body                    620 non-null    object \n",
      " 3   State Name                         620 non-null    object \n",
      " 4   Temperature\n",
      "?C (Min)               617 non-null    float64\n",
      " 5   Temperature\n",
      "?C (Max)               617 non-null    float64\n",
      " 6   Dissolved Oxygen (mg/L) (Min)      618 non-null    float64\n",
      " 7   Dissolved Oxygen (mg/L) (Max)      618 non-null    float64\n",
      " 8   pH (Min)                           620 non-null    float64\n",
      " 9   pH (Max)                           620 non-null    float64\n",
      " 10  Conductivity (?mhos/cm) (Min)      615 non-null    float64\n",
      " 11  Conductivity (?mhos/cm) (Max)      615 non-null    float64\n",
      " 12  BOD (mg/L) (Min)                   618 non-null    float64\n",
      " 13  BOD (mg/L) (Max)                   618 non-null    float64\n",
      " 14  Nitrate N + Nitrite N(mg/L) (Min)  568 non-null    float64\n",
      " 15  Nitrate N + Nitrite N(mg/L) (Max)  568 non-null    float64\n",
      " 16  Fecal Coliform (MPN/100ml) (Min)   568 non-null    float64\n",
      " 17  Fecal Coliform (MPN/100ml) (Max)   568 non-null    float64\n",
      " 18  Total Coliform (MPN/100ml) (Min)   568 non-null    float64\n",
      " 19  Total Coliform (MPN/100ml) (Max)   568 non-null    float64\n",
      "dtypes: float64(17), object(3)\n",
      "memory usage: 97.0+ KB\n"
     ]
    }
   ],
   "source": [
    "df=df.replace('-', np.nan)\n",
    "df=df.replace('\\n4', '',regex=True)\n",
    "df=df.replace('\\n', ' ',regex=True)\n",
    "df.iloc[:,4:20]=df.iloc[:,4:20].astype(float)\n",
    "df.info()"
   ]
  },
  {
   "cell_type": "code",
   "execution_count": 42,
   "metadata": {},
   "outputs": [
    {
     "data": {
      "text/plain": [
       "Index(['Name of Monitoring Location', 'Type Water Body', 'State Name'], dtype='object')"
      ]
     },
     "execution_count": 42,
     "metadata": {},
     "output_type": "execute_result"
    }
   ],
   "source": [
    "df_categorical = df.select_dtypes(include=[object])\n",
    "\n",
    "df_categorical.columns"
   ]
  },
  {
   "cell_type": "code",
   "execution_count": 43,
   "metadata": {
    "execution": {
     "iopub.execute_input": "2023-01-30T06:41:00.820513Z",
     "iopub.status.busy": "2023-01-30T06:41:00.820163Z",
     "iopub.status.idle": "2023-01-30T06:41:00.832554Z",
     "shell.execute_reply": "2023-01-30T06:41:00.831215Z",
     "shell.execute_reply.started": "2023-01-30T06:41:00.820482Z"
    }
   },
   "outputs": [
    {
     "data": {
      "text/plain": [
       "STN\\nCode                             1\n",
       "Name of Monitoring Location           0\n",
       "Type Water Body                       0\n",
       "State Name                            0\n",
       "Temperature\\n?C (Min)                 3\n",
       "Temperature\\n?C (Max)                 3\n",
       "Dissolved Oxygen (mg/L) (Min)         2\n",
       "Dissolved Oxygen (mg/L) (Max)         2\n",
       "pH (Min)                              0\n",
       "pH (Max)                              0\n",
       "Conductivity (?mhos/cm) (Min)         5\n",
       "Conductivity (?mhos/cm) (Max)         5\n",
       "BOD (mg/L) (Min)                      2\n",
       "BOD (mg/L) (Max)                      2\n",
       "Nitrate N + Nitrite N(mg/L) (Min)    52\n",
       "Nitrate N + Nitrite N(mg/L) (Max)    52\n",
       "Fecal Coliform (MPN/100ml) (Min)     52\n",
       "Fecal Coliform (MPN/100ml) (Max)     52\n",
       "Total Coliform (MPN/100ml) (Min)     52\n",
       "Total Coliform (MPN/100ml) (Max)     52\n",
       "dtype: int64"
      ]
     },
     "execution_count": 43,
     "metadata": {},
     "output_type": "execute_result"
    }
   ],
   "source": [
    "df.isnull().sum()"
   ]
  },
  {
   "cell_type": "code",
   "execution_count": 44,
   "metadata": {},
   "outputs": [
    {
     "data": {
      "text/plain": [
       "<matplotlib.axes._subplots.AxesSubplot at 0x1fd1af3d8c8>"
      ]
     },
     "execution_count": 44,
     "metadata": {},
     "output_type": "execute_result"
    },
    {
     "data": {
      "image/png": "[encoded data removed]",
      "text/plain": [
       "<Figure size 432x288 with 2 Axes>"
      ]
     },
     "metadata": {
      "needs_background": "light"
     },
     "output_type": "display_data"
    }
   ],
   "source": [
    "# Finding null values with the help of HeatMap\n",
    "sns.heatmap(df.isna())"
   ]
  },
  {
   "cell_type": "code",
   "execution_count": 45,
   "metadata": {},
   "outputs": [],
   "source": [
    "data = df.interpolate(method=\"linear\",limit_area=None,limit=10000)"
   ]
  },
  {
   "cell_type": "code",
   "execution_count": 46,
   "metadata": {},
   "outputs": [
    {
     "data": {
      "text/html": [
       "<div>\n",
       "<style scoped>\n",
       "    .dataframe tbody tr th:only-of-type {\n",
       "        vertical-align: middle;\n",
       "    }\n",
       "\n",
       "    .dataframe tbody tr th {\n",
       "        vertical-align: top;\n",
       "    }\n",
       "\n",
       "    .dataframe thead th {\n",
       "        text-align: right;\n",
       "    }\n",
       "</style>\n",
       "<table border=\"1\" class=\"dataframe\">\n",
       "  <thead>\n",
       "    <tr style=\"text-align: right;\">\n",
       "      <th></th>\n",
       "      <th>STN\\nCode</th>\n",
       "      <th>Name of Monitoring Location</th>\n",
       "      <th>Type Water Body</th>\n",
       "      <th>State Name</th>\n",
       "      <th>Temperature\\n?C (Min)</th>\n",
       "      <th>Temperature\\n?C (Max)</th>\n",
       "      <th>Dissolved Oxygen (mg/L) (Min)</th>\n",
       "      <th>Dissolved Oxygen (mg/L) (Max)</th>\n",
       "      <th>pH (Min)</th>\n",
       "      <th>pH (Max)</th>\n",
       "      <th>Conductivity (?mhos/cm) (Min)</th>\n",
       "      <th>Conductivity (?mhos/cm) (Max)</th>\n",
       "      <th>BOD (mg/L) (Min)</th>\n",
       "      <th>BOD (mg/L) (Max)</th>\n",
       "      <th>Nitrate N + Nitrite N(mg/L) (Min)</th>\n",
       "      <th>Nitrate N + Nitrite N(mg/L) (Max)</th>\n",
       "      <th>Fecal Coliform (MPN/100ml) (Min)</th>\n",
       "      <th>Fecal Coliform (MPN/100ml) (Max)</th>\n",
       "      <th>Total Coliform (MPN/100ml) (Min)</th>\n",
       "      <th>Total Coliform (MPN/100ml) (Max)</th>\n",
       "    </tr>\n",
       "  </thead>\n",
       "  <tbody>\n",
       "    <tr>\n",
       "      <th>0</th>\n",
       "      <td>4368.0</td>\n",
       "      <td>KOLLERU LAKE KOKKIRAYALANKA (V), KAILALUR (M)</td>\n",
       "      <td>LAKE</td>\n",
       "      <td>ANDHRA PRADESH</td>\n",
       "      <td>24.0</td>\n",
       "      <td>27.0</td>\n",
       "      <td>3.2</td>\n",
       "      <td>6.5</td>\n",
       "      <td>7.0</td>\n",
       "      <td>8.0</td>\n",
       "      <td>245.0</td>\n",
       "      <td>5160.0</td>\n",
       "      <td>1.6</td>\n",
       "      <td>3.2</td>\n",
       "      <td>1.02</td>\n",
       "      <td>3.60</td>\n",
       "      <td>9.0</td>\n",
       "      <td>21.0</td>\n",
       "      <td>120.0</td>\n",
       "      <td>210.0</td>\n",
       "    </tr>\n",
       "    <tr>\n",
       "      <th>1</th>\n",
       "      <td>2353.0</td>\n",
       "      <td>KONDAKARLA-AAVA LAKE, PARAWADA PHARMA CITY, VI...</td>\n",
       "      <td>LAKE</td>\n",
       "      <td>ANDHRA PRADESH</td>\n",
       "      <td>26.0</td>\n",
       "      <td>29.0</td>\n",
       "      <td>3.0</td>\n",
       "      <td>6.8</td>\n",
       "      <td>6.9</td>\n",
       "      <td>7.8</td>\n",
       "      <td>599.0</td>\n",
       "      <td>1179.0</td>\n",
       "      <td>1.9</td>\n",
       "      <td>4.6</td>\n",
       "      <td>0.77</td>\n",
       "      <td>3.56</td>\n",
       "      <td>15.0</td>\n",
       "      <td>23.0</td>\n",
       "      <td>150.0</td>\n",
       "      <td>240.0</td>\n",
       "    </tr>\n",
       "    <tr>\n",
       "      <th>2</th>\n",
       "      <td>1790.0</td>\n",
       "      <td>PULICATE LAKE , NELLORE DIST</td>\n",
       "      <td>LAKE</td>\n",
       "      <td>ANDHRA PRADESH</td>\n",
       "      <td>18.0</td>\n",
       "      <td>24.0</td>\n",
       "      <td>4.2</td>\n",
       "      <td>6.0</td>\n",
       "      <td>7.2</td>\n",
       "      <td>8.2</td>\n",
       "      <td>28000.0</td>\n",
       "      <td>56900.0</td>\n",
       "      <td>2.4</td>\n",
       "      <td>2.8</td>\n",
       "      <td>1.20</td>\n",
       "      <td>1.64</td>\n",
       "      <td>3.0</td>\n",
       "      <td>3.0</td>\n",
       "      <td>47.0</td>\n",
       "      <td>150.0</td>\n",
       "    </tr>\n",
       "    <tr>\n",
       "      <th>3</th>\n",
       "      <td>4391.0</td>\n",
       "      <td>CHENGAMBAKAM TANK IN SRI CITY SEZ, TIRUPATHI</td>\n",
       "      <td>TANK</td>\n",
       "      <td>ANDHRA PRADESH</td>\n",
       "      <td>22.0</td>\n",
       "      <td>29.0</td>\n",
       "      <td>5.4</td>\n",
       "      <td>6.2</td>\n",
       "      <td>6.3</td>\n",
       "      <td>7.9</td>\n",
       "      <td>180.0</td>\n",
       "      <td>476.0</td>\n",
       "      <td>1.0</td>\n",
       "      <td>2.5</td>\n",
       "      <td>0.34</td>\n",
       "      <td>2.30</td>\n",
       "      <td>24.0</td>\n",
       "      <td>365.0</td>\n",
       "      <td>170.0</td>\n",
       "      <td>549.0</td>\n",
       "    </tr>\n",
       "    <tr>\n",
       "      <th>4</th>\n",
       "      <td>4921.0</td>\n",
       "      <td>ANNAMAYYA PROJECT ON CHEYYERU RESERVOIR</td>\n",
       "      <td>Wetland</td>\n",
       "      <td>ANDHRA PRADESH</td>\n",
       "      <td>21.0</td>\n",
       "      <td>30.0</td>\n",
       "      <td>5.4</td>\n",
       "      <td>6.5</td>\n",
       "      <td>7.3</td>\n",
       "      <td>8.0</td>\n",
       "      <td>496.0</td>\n",
       "      <td>734.0</td>\n",
       "      <td>1.0</td>\n",
       "      <td>2.3</td>\n",
       "      <td>0.35</td>\n",
       "      <td>1.00</td>\n",
       "      <td>43.0</td>\n",
       "      <td>289.0</td>\n",
       "      <td>240.0</td>\n",
       "      <td>727.0</td>\n",
       "    </tr>\n",
       "    <tr>\n",
       "      <th>...</th>\n",
       "      <td>...</td>\n",
       "      <td>...</td>\n",
       "      <td>...</td>\n",
       "      <td>...</td>\n",
       "      <td>...</td>\n",
       "      <td>...</td>\n",
       "      <td>...</td>\n",
       "      <td>...</td>\n",
       "      <td>...</td>\n",
       "      <td>...</td>\n",
       "      <td>...</td>\n",
       "      <td>...</td>\n",
       "      <td>...</td>\n",
       "      <td>...</td>\n",
       "      <td>...</td>\n",
       "      <td>...</td>\n",
       "      <td>...</td>\n",
       "      <td>...</td>\n",
       "      <td>...</td>\n",
       "      <td>...</td>\n",
       "    </tr>\n",
       "    <tr>\n",
       "      <th>615</th>\n",
       "      <td>1765.0</td>\n",
       "      <td>RABINDRASAROVAR NATIONAL LAKE, CALCUTTA, WEST ...</td>\n",
       "      <td>LAKE</td>\n",
       "      <td>WEST BENGAL</td>\n",
       "      <td>22.0</td>\n",
       "      <td>31.0</td>\n",
       "      <td>5.2</td>\n",
       "      <td>9.7</td>\n",
       "      <td>7.2</td>\n",
       "      <td>8.5</td>\n",
       "      <td>252.0</td>\n",
       "      <td>826.0</td>\n",
       "      <td>1.8</td>\n",
       "      <td>4.1</td>\n",
       "      <td>0.30</td>\n",
       "      <td>1.90</td>\n",
       "      <td>330.0</td>\n",
       "      <td>790.0</td>\n",
       "      <td>1100.0</td>\n",
       "      <td>1700.0</td>\n",
       "    </tr>\n",
       "    <tr>\n",
       "      <th>616</th>\n",
       "      <td>2544.0</td>\n",
       "      <td>SAHEBBANDH AT PURULIA</td>\n",
       "      <td>LAKE</td>\n",
       "      <td>WEST BENGAL</td>\n",
       "      <td>22.0</td>\n",
       "      <td>32.0</td>\n",
       "      <td>8.8</td>\n",
       "      <td>9.8</td>\n",
       "      <td>7.0</td>\n",
       "      <td>7.6</td>\n",
       "      <td>311.0</td>\n",
       "      <td>422.0</td>\n",
       "      <td>2.7</td>\n",
       "      <td>7.3</td>\n",
       "      <td>0.30</td>\n",
       "      <td>0.80</td>\n",
       "      <td>3100.0</td>\n",
       "      <td>9400.0</td>\n",
       "      <td>4300.0</td>\n",
       "      <td>12000.0</td>\n",
       "    </tr>\n",
       "    <tr>\n",
       "      <th>617</th>\n",
       "      <td>2522.0</td>\n",
       "      <td>SINCHAL LAKE FOR DARJEELING</td>\n",
       "      <td>LAKE</td>\n",
       "      <td>WEST BENGAL</td>\n",
       "      <td>7.0</td>\n",
       "      <td>16.0</td>\n",
       "      <td>7.1</td>\n",
       "      <td>8.1</td>\n",
       "      <td>6.9</td>\n",
       "      <td>7.6</td>\n",
       "      <td>13.0</td>\n",
       "      <td>29.0</td>\n",
       "      <td>1.0</td>\n",
       "      <td>1.1</td>\n",
       "      <td>0.30</td>\n",
       "      <td>0.30</td>\n",
       "      <td>70.0</td>\n",
       "      <td>110.0</td>\n",
       "      <td>110.0</td>\n",
       "      <td>210.0</td>\n",
       "    </tr>\n",
       "    <tr>\n",
       "      <th>618</th>\n",
       "      <td>2521.0</td>\n",
       "      <td>WATER RESERVIOR AT DELO LAKE, DARJELLING</td>\n",
       "      <td>LAKE</td>\n",
       "      <td>WEST BENGAL</td>\n",
       "      <td>9.0</td>\n",
       "      <td>24.0</td>\n",
       "      <td>7.2</td>\n",
       "      <td>8.2</td>\n",
       "      <td>6.9</td>\n",
       "      <td>7.6</td>\n",
       "      <td>20.0</td>\n",
       "      <td>36.0</td>\n",
       "      <td>1.0</td>\n",
       "      <td>1.8</td>\n",
       "      <td>0.30</td>\n",
       "      <td>0.30</td>\n",
       "      <td>60.0</td>\n",
       "      <td>130.0</td>\n",
       "      <td>110.0</td>\n",
       "      <td>330.0</td>\n",
       "    </tr>\n",
       "    <tr>\n",
       "      <th>619</th>\n",
       "      <td>4725.0</td>\n",
       "      <td>WATER RESERVIOR ST. HELENS SCHOOL</td>\n",
       "      <td>LAKE</td>\n",
       "      <td>WEST BENGAL</td>\n",
       "      <td>8.0</td>\n",
       "      <td>18.0</td>\n",
       "      <td>7.1</td>\n",
       "      <td>8.5</td>\n",
       "      <td>6.9</td>\n",
       "      <td>7.9</td>\n",
       "      <td>16.0</td>\n",
       "      <td>73.0</td>\n",
       "      <td>1.0</td>\n",
       "      <td>1.6</td>\n",
       "      <td>0.30</td>\n",
       "      <td>0.30</td>\n",
       "      <td>70.0</td>\n",
       "      <td>110.0</td>\n",
       "      <td>110.0</td>\n",
       "      <td>330.0</td>\n",
       "    </tr>\n",
       "  </tbody>\n",
       "</table>\n",
       "<p>620 rows × 20 columns</p>\n",
       "</div>"
      ],
      "text/plain": [
       "     STN\\nCode                        Name of Monitoring Location  \\\n",
       "0       4368.0      KOLLERU LAKE KOKKIRAYALANKA (V), KAILALUR (M)   \n",
       "1       2353.0  KONDAKARLA-AAVA LAKE, PARAWADA PHARMA CITY, VI...   \n",
       "2       1790.0                       PULICATE LAKE , NELLORE DIST   \n",
       "3       4391.0       CHENGAMBAKAM TANK IN SRI CITY SEZ, TIRUPATHI   \n",
       "4       4921.0            ANNAMAYYA PROJECT ON CHEYYERU RESERVOIR   \n",
       "..         ...                                                ...   \n",
       "615     1765.0  RABINDRASAROVAR NATIONAL LAKE, CALCUTTA, WEST ...   \n",
       "616     2544.0                              SAHEBBANDH AT PURULIA   \n",
       "617     2522.0                        SINCHAL LAKE FOR DARJEELING   \n",
       "618     2521.0           WATER RESERVIOR AT DELO LAKE, DARJELLING   \n",
       "619     4725.0                  WATER RESERVIOR ST. HELENS SCHOOL   \n",
       "\n",
       "    Type Water Body      State Name  Temperature\\n?C (Min)  \\\n",
       "0              LAKE  ANDHRA PRADESH                   24.0   \n",
       "1              LAKE  ANDHRA PRADESH                   26.0   \n",
       "2              LAKE  ANDHRA PRADESH                   18.0   \n",
       "3              TANK  ANDHRA PRADESH                   22.0   \n",
       "4           Wetland  ANDHRA PRADESH                   21.0   \n",
       "..              ...             ...                    ...   \n",
       "615            LAKE     WEST BENGAL                   22.0   \n",
       "616            LAKE     WEST BENGAL                   22.0   \n",
       "617            LAKE     WEST BENGAL                    7.0   \n",
       "618            LAKE     WEST BENGAL                    9.0   \n",
       "619            LAKE     WEST BENGAL                    8.0   \n",
       "\n",
       "     Temperature\\n?C (Max)  Dissolved Oxygen (mg/L) (Min)  \\\n",
       "0                     27.0                            3.2   \n",
       "1                     29.0                            3.0   \n",
       "2                     24.0                            4.2   \n",
       "3                     29.0                            5.4   \n",
       "4                     30.0                            5.4   \n",
       "..                     ...                            ...   \n",
       "615                   31.0                            5.2   \n",
       "616                   32.0                            8.8   \n",
       "617                   16.0                            7.1   \n",
       "618                   24.0                            7.2   \n",
       "619                   18.0                            7.1   \n",
       "\n",
       "     Dissolved Oxygen (mg/L) (Max)  pH (Min)  pH (Max)  \\\n",
       "0                              6.5       7.0       8.0   \n",
       "1                              6.8       6.9       7.8   \n",
       "2                              6.0       7.2       8.2   \n",
       "3                              6.2       6.3       7.9   \n",
       "4                              6.5       7.3       8.0   \n",
       "..                             ...       ...       ...   \n",
       "615                            9.7       7.2       8.5   \n",
       "616                            9.8       7.0       7.6   \n",
       "617                            8.1       6.9       7.6   \n",
       "618                            8.2       6.9       7.6   \n",
       "619                            8.5       6.9       7.9   \n",
       "\n",
       "     Conductivity (?mhos/cm) (Min)  Conductivity (?mhos/cm) (Max)  \\\n",
       "0                            245.0                         5160.0   \n",
       "1                            599.0                         1179.0   \n",
       "2                          28000.0                        56900.0   \n",
       "3                            180.0                          476.0   \n",
       "4                            496.0                          734.0   \n",
       "..                             ...                            ...   \n",
       "615                          252.0                          826.0   \n",
       "616                          311.0                          422.0   \n",
       "617                           13.0                           29.0   \n",
       "618                           20.0                           36.0   \n",
       "619                           16.0                           73.0   \n",
       "\n",
       "     BOD (mg/L) (Min)  BOD (mg/L) (Max)  Nitrate N + Nitrite N(mg/L) (Min)  \\\n",
       "0                 1.6               3.2                               1.02   \n",
       "1                 1.9               4.6                               0.77   \n",
       "2                 2.4               2.8                               1.20   \n",
       "3                 1.0               2.5                               0.34   \n",
       "4                 1.0               2.3                               0.35   \n",
       "..                ...               ...                                ...   \n",
       "615               1.8               4.1                               0.30   \n",
       "616               2.7               7.3                               0.30   \n",
       "617               1.0               1.1                               0.30   \n",
       "618               1.0               1.8                               0.30   \n",
       "619               1.0               1.6                               0.30   \n",
       "\n",
       "     Nitrate N + Nitrite N(mg/L) (Max)  Fecal Coliform (MPN/100ml) (Min)  \\\n",
       "0                                 3.60                               9.0   \n",
       "1                                 3.56                              15.0   \n",
       "2                                 1.64                               3.0   \n",
       "3                                 2.30                              24.0   \n",
       "4                                 1.00                              43.0   \n",
       "..                                 ...                               ...   \n",
       "615                               1.90                             330.0   \n",
       "616                               0.80                            3100.0   \n",
       "617                               0.30                              70.0   \n",
       "618                               0.30                              60.0   \n",
       "619                               0.30                              70.0   \n",
       "\n",
       "     Fecal Coliform (MPN/100ml) (Max)  Total Coliform (MPN/100ml) (Min)  \\\n",
       "0                                21.0                             120.0   \n",
       "1                                23.0                             150.0   \n",
       "2                                 3.0                              47.0   \n",
       "3                               365.0                             170.0   \n",
       "4                               289.0                             240.0   \n",
       "..                                ...                               ...   \n",
       "615                             790.0                            1100.0   \n",
       "616                            9400.0                            4300.0   \n",
       "617                             110.0                             110.0   \n",
       "618                             130.0                             110.0   \n",
       "619                             110.0                             110.0   \n",
       "\n",
       "     Total Coliform (MPN/100ml) (Max)  \n",
       "0                               210.0  \n",
       "1                               240.0  \n",
       "2                               150.0  \n",
       "3                               549.0  \n",
       "4                               727.0  \n",
       "..                                ...  \n",
       "615                            1700.0  \n",
       "616                           12000.0  \n",
       "617                             210.0  \n",
       "618                             330.0  \n",
       "619                             330.0  \n",
       "\n",
       "[620 rows x 20 columns]"
      ]
     },
     "execution_count": 46,
     "metadata": {},
     "output_type": "execute_result"
    }
   ],
   "source": [
    "data"
   ]
  },
  {
   "cell_type": "code",
   "execution_count": 47,
   "metadata": {},
   "outputs": [
    {
     "data": {
      "text/plain": [
       "STN\\nCode                            0\n",
       "Name of Monitoring Location          0\n",
       "Type Water Body                      0\n",
       "State Name                           0\n",
       "Temperature\\n?C (Min)                0\n",
       "Temperature\\n?C (Max)                0\n",
       "Dissolved Oxygen (mg/L) (Min)        0\n",
       "Dissolved Oxygen (mg/L) (Max)        0\n",
       "pH (Min)                             0\n",
       "pH (Max)                             0\n",
       "Conductivity (?mhos/cm) (Min)        0\n",
       "Conductivity (?mhos/cm) (Max)        0\n",
       "BOD (mg/L) (Min)                     0\n",
       "BOD (mg/L) (Max)                     0\n",
       "Nitrate N + Nitrite N(mg/L) (Min)    0\n",
       "Nitrate N + Nitrite N(mg/L) (Max)    0\n",
       "Fecal Coliform (MPN/100ml) (Min)     0\n",
       "Fecal Coliform (MPN/100ml) (Max)     0\n",
       "Total Coliform (MPN/100ml) (Min)     0\n",
       "Total Coliform (MPN/100ml) (Max)     0\n",
       "dtype: int64"
      ]
     },
     "execution_count": 47,
     "metadata": {},
     "output_type": "execute_result"
    }
   ],
   "source": [
    "data.isna().sum()"
   ]
  },
  {
   "cell_type": "code",
   "execution_count": 48,
   "metadata": {},
   "outputs": [
    {
     "data": {
      "text/plain": [
       "<matplotlib.axes._subplots.AxesSubplot at 0x1fdcec39808>"
      ]
     },
     "execution_count": 48,
     "metadata": {},
     "output_type": "execute_result"
    },
    {
     "data": {
      "image/png": "[encoded data removed]",
      "text/plain": [
       "<Figure size 432x288 with 2 Axes>"
      ]
     },
     "metadata": {
      "needs_background": "light"
     },
     "output_type": "display_data"
    }
   ],
   "source": [
    "d=data\n",
    "sns.heatmap(data.isna(),cmap=\"YlGnBu\")"
   ]
  },
  {
   "cell_type": "markdown",
   "metadata": {},
   "source": [
    "# Exploratory Data Analysis "
   ]
  },
  {
   "cell_type": "code",
   "execution_count": 49,
   "metadata": {
    "execution": {
     "iopub.execute_input": "2023-01-30T06:41:00.858113Z",
     "iopub.status.busy": "2023-01-30T06:41:00.857713Z",
     "iopub.status.idle": "2023-01-30T06:41:00.871151Z",
     "shell.execute_reply": "2023-01-30T06:41:00.86994Z",
     "shell.execute_reply.started": "2023-01-30T06:41:00.85808Z"
    }
   },
   "outputs": [],
   "source": [
    "water_bodies_list = d['Type Water Body'].str.split(',') \n",
    "water_body_type = {} \n",
    "\n",
    "for types in water_bodies_list: \n",
    "    for key in types: \n",
    "        if (key in water_body_type): \n",
    "            water_body_type[key]+=1 \n",
    "        else:\n",
    "            water_body_type[key]=1 \n",
    "            \n",
    "wbdf = pd.DataFrame(water_body_type.values(),index = water_body_type.keys(), columns = {'Counts'})\n",
    "wbdf.sort_values(by ='Counts',inplace = True)\n",
    "top_10 = wbdf[0:10]"
   ]
  },
  {
   "cell_type": "code",
   "execution_count": 50,
   "metadata": {
    "execution": {
     "iopub.execute_input": "2023-01-30T06:41:00.873298Z",
     "iopub.status.busy": "2023-01-30T06:41:00.872805Z",
     "iopub.status.idle": "2023-01-30T06:41:01.051778Z",
     "shell.execute_reply": "2023-01-30T06:41:01.050407Z",
     "shell.execute_reply.started": "2023-01-30T06:41:00.873262Z"
    }
   },
   "outputs": [
    {
     "data": {
      "image/png": "[encoded data removed]",
      "text/plain": [
       "<Figure size 1440x1440 with 1 Axes>"
      ]
     },
     "metadata": {
      "needs_background": "light"
     },
     "output_type": "display_data"
    }
   ],
   "source": [
    "top_10.plot(kind='bar',figsize=(20,20))\n",
    "plt.xlabel('Year ')\n",
    "plt.ylabel('Values')\n",
    "plt.title('bar Graph Example')\n",
    "plt.legend()\n",
    "plt.show()"
   ]
  },
  {
   "cell_type": "markdown",
   "metadata": {},
   "source": [
    "# Water bodies in each state"
   ]
  },
  {
   "cell_type": "code",
   "execution_count": 51,
   "metadata": {
    "_kg_hide-input": false,
    "_kg_hide-output": false,
    "execution": {
     "iopub.execute_input": "2023-01-30T06:41:06.663984Z",
     "iopub.status.busy": "2023-01-30T06:41:06.6634Z",
     "iopub.status.idle": "2023-01-30T06:41:07.665405Z",
     "shell.execute_reply": "2023-01-30T06:41:07.664177Z",
     "shell.execute_reply.started": "2023-01-30T06:41:06.663825Z"
    },
    "scrolled": true
   },
   "outputs": [
    {
     "data": {
      "application/vnd.plotly.v1+json": {
       "config": {
        "plotlyServerURL": "https://plot.ly"
       },
       "data": [
        {
         "branchvalues": "total",
         "domain": {
          "x": [
           0,
           1
          ],
          "y": [
           0,
           1
          ]
         },
         "hovertemplate": "labels=%{label}<br>count=%{value}<br>parent=%{parent}<br>id=%{id}<extra></extra>",
         "ids": [
          "ANDHRA PRADESH",
          "ASSAM",
          "BIHAR",
          "CHANDIGARH",
          "CHHATTISGARH",
          "DELHI",
          "GOA",
          "GUJARAT",
          "HARYANA",
          "HIMACHAL PRADESH",
          "JAMMU & KASHMIR",
          "JHARKHAND",
          "KARNATAKA",
          "KERALA",
          "LAKSHADWEEP",
          "MADHYA PRADESH",
          "MANIPUR",
          "MEGHALAYA",
          "MIZORAM",
          "NAGALAND",
          "ODISHA",
          "PUDUCHERRY",
          "PUNJAB",
          "RAJASTHAN",
          "TAMIL NADU",
          "TELANGANA",
          "TRIPURA",
          "UTTAR PRADESH",
          "UTTARAKHAND",
          "WEST BENGAL"
         ],
         "labels": [
          "ANDHRA PRADESH",
          "ASSAM",
          "BIHAR",
          "CHANDIGARH",
          "CHHATTISGARH",
          "DELHI",
          "GOA",
          "GUJARAT",
          "HARYANA",
          "HIMACHAL PRADESH",
          "JAMMU & KASHMIR",
          "JHARKHAND",
          "KARNATAKA",
          "KERALA",
          "LAKSHADWEEP",
          "MADHYA PRADESH",
          "MANIPUR",
          "MEGHALAYA",
          "MIZORAM",
          "NAGALAND",
          "ODISHA",
          "PUDUCHERRY",
          "PUNJAB",
          "RAJASTHAN",
          "TAMIL NADU",
          "TELANGANA",
          "TRIPURA",
          "UTTAR PRADESH",
          "UTTARAKHAND",
          "WEST BENGAL"
         ],
         "name": "",
         "parents": [
          "",
          "",
          "",
          "",
          "",
          "",
          "",
          "",
          "",
          "",
          "",
          "",
          "",
          "",
          "",
          "",
          "",
          "",
          "",
          "",
          "",
          "",
          "",
          "",
          "",
          "",
          "",
          "",
          "",
          ""
         ],
         "type": "treemap",
         "values": [
          25,
          45,
          5,
          1,
          2,
          3,
          9,
          21,
          4,
          5,
          30,
          6,
          165,
          18,
          3,
          35,
          18,
          7,
          4,
          2,
          15,
          3,
          3,
          20,
          9,
          125,
          18,
          4,
          2,
          13
         ]
        }
       ],
       "layout": {
        "legend": {
         "tracegroupgap": 0
        },
        "margin": {
         "t": 60
        },
        "template": {
         "data": {
          "bar": [
           {
            "error_x": {
             "color": "#2a3f5f"
            },
            "error_y": {
             "color": "#2a3f5f"
            },
            "marker": {
             "line": {
              "color": "#E5ECF6",
              "width": 0.5
             },
             "pattern": {
              "fillmode": "overlay",
              "size": 10,
              "solidity": 0.2
             }
            },
            "type": "bar"
           }
          ],
          "barpolar": [
           {
            "marker": {
             "line": {
              "color": "#E5ECF6",
              "width": 0.5
             },
             "pattern": {
              "fillmode": "overlay",
              "size": 10,
              "solidity": 0.2
             }
            },
            "type": "barpolar"
           }
          ],
          "carpet": [
           {
            "aaxis": {
             "endlinecolor": "#2a3f5f",
             "gridcolor": "white",
             "linecolor": "white",
             "minorgridcolor": "white",
             "startlinecolor": "#2a3f5f"
            },
            "baxis": {
             "endlinecolor": "#2a3f5f",
             "gridcolor": "white",
             "linecolor": "white",
             "minorgridcolor": "white",
             "startlinecolor": "#2a3f5f"
            },
            "type": "carpet"
           }
          ],
          "choropleth": [
           {
            "colorbar": {
             "outlinewidth": 0,
             "ticks": ""
            },
            "type": "choropleth"
           }
          ],
          "contour": [
           {
            "colorbar": {
             "outlinewidth": 0,
             "ticks": ""
            },
            "colorscale": [
             [
              0,
              "#0d0887"
             ],
             [
              0.1111111111111111,
              "#46039f"
             ],
             [
              0.2222222222222222,
              "#7201a8"
             ],
             [
              0.3333333333333333,
              "#9c179e"
             ],
             [
              0.4444444444444444,
              "#bd3786"
             ],
             [
              0.5555555555555556,
              "#d8576b"
             ],
             [
              0.6666666666666666,
              "#ed7953"
             ],
             [
              0.7777777777777778,
              "#fb9f3a"
             ],
             [
              0.8888888888888888,
              "#fdca26"
             ],
             [
              1,
              "#f0f921"
             ]
            ],
            "type": "contour"
           }
          ],
          "contourcarpet": [
           {
            "colorbar": {
             "outlinewidth": 0,
             "ticks": ""
            },
            "type": "contourcarpet"
           }
          ],
          "heatmap": [
           {
            "colorbar": {
             "outlinewidth": 0,
             "ticks": ""
            },
            "colorscale": [
             [
              0,
              "#0d0887"
             ],
             [
              0.1111111111111111,
              "#46039f"
             ],
             [
              0.2222222222222222,
              "#7201a8"
             ],
             [
              0.3333333333333333,
              "#9c179e"
             ],
             [
              0.4444444444444444,
              "#bd3786"
             ],
             [
              0.5555555555555556,
              "#d8576b"
             ],
             [
              0.6666666666666666,
              "#ed7953"
             ],
             [
              0.7777777777777778,
              "#fb9f3a"
             ],
             [
              0.8888888888888888,
              "#fdca26"
             ],
             [
              1,
              "#f0f921"
             ]
            ],
            "type": "heatmap"
           }
          ],
          "heatmapgl": [
           {
            "colorbar": {
             "outlinewidth": 0,
             "ticks": ""
            },
            "colorscale": [
             [
              0,
              "#0d0887"
             ],
             [
              0.1111111111111111,
              "#46039f"
             ],
             [
              0.2222222222222222,
              "#7201a8"
             ],
             [
              0.3333333333333333,
              "#9c179e"
             ],
             [
              0.4444444444444444,
              "#bd3786"
             ],
             [
              0.5555555555555556,
              "#d8576b"
             ],
             [
              0.6666666666666666,
              "#ed7953"
             ],
             [
              0.7777777777777778,
              "#fb9f3a"
             ],
             [
              0.8888888888888888,
              "#fdca26"
             ],
             [
              1,
              "#f0f921"
             ]
            ],
            "type": "heatmapgl"
           }
          ],
          "histogram": [
           {
            "marker": {
             "pattern": {
              "fillmode": "overlay",
              "size": 10,
              "solidity": 0.2
             }
            },
            "type": "histogram"
           }
          ],
          "histogram2d": [
           {
            "colorbar": {
             "outlinewidth": 0,
             "ticks": ""
            },
            "colorscale": [
             [
              0,
              "#0d0887"
             ],
             [
              0.1111111111111111,
              "#46039f"
             ],
             [
              0.2222222222222222,
              "#7201a8"
             ],
             [
              0.3333333333333333,
              "#9c179e"
             ],
             [
              0.4444444444444444,
              "#bd3786"
             ],
             [
              0.5555555555555556,
              "#d8576b"
             ],
             [
              0.6666666666666666,
              "#ed7953"
             ],
             [
              0.7777777777777778,
              "#fb9f3a"
             ],
             [
              0.8888888888888888,
              "#fdca26"
             ],
             [
              1,
              "#f0f921"
             ]
            ],
            "type": "histogram2d"
           }
          ],
          "histogram2dcontour": [
           {
            "colorbar": {
             "outlinewidth": 0,
             "ticks": ""
            },
            "colorscale": [
             [
              0,
              "#0d0887"
             ],
             [
              0.1111111111111111,
              "#46039f"
             ],
             [
              0.2222222222222222,
              "#7201a8"
             ],
             [
              0.3333333333333333,
              "#9c179e"
             ],
             [
              0.4444444444444444,
              "#bd3786"
             ],
             [
              0.5555555555555556,
              "#d8576b"
             ],
             [
              0.6666666666666666,
              "#ed7953"
             ],
             [
              0.7777777777777778,
              "#fb9f3a"
             ],
             [
              0.8888888888888888,
              "#fdca26"
             ],
             [
              1,
              "#f0f921"
             ]
            ],
            "type": "histogram2dcontour"
           }
          ],
          "mesh3d": [
           {
            "colorbar": {
             "outlinewidth": 0,
             "ticks": ""
            },
            "type": "mesh3d"
           }
          ],
          "parcoords": [
           {
            "line": {
             "colorbar": {
              "outlinewidth": 0,
              "ticks": ""
             }
            },
            "type": "parcoords"
           }
          ],
          "pie": [
           {
            "automargin": true,
            "type": "pie"
           }
          ],
          "scatter": [
           {
            "fillpattern": {
             "fillmode": "overlay",
             "size": 10,
             "solidity": 0.2
            },
            "type": "scatter"
           }
          ],
          "scatter3d": [
           {
            "line": {
             "colorbar": {
              "outlinewidth": 0,
              "ticks": ""
             }
            },
            "marker": {
             "colorbar": {
              "outlinewidth": 0,
              "ticks": ""
             }
            },
            "type": "scatter3d"
           }
          ],
          "scattercarpet": [
           {
            "marker": {
             "colorbar": {
              "outlinewidth": 0,
              "ticks": ""
             }
            },
            "type": "scattercarpet"
           }
          ],
          "scattergeo": [
           {
            "marker": {
             "colorbar": {
              "outlinewidth": 0,
              "ticks": ""
             }
            },
            "type": "scattergeo"
           }
          ],
          "scattergl": [
           {
            "marker": {
             "colorbar": {
              "outlinewidth": 0,
              "ticks": ""
             }
            },
            "type": "scattergl"
           }
          ],
          "scattermapbox": [
           {
            "marker": {
             "colorbar": {
              "outlinewidth": 0,
              "ticks": ""
             }
            },
            "type": "scattermapbox"
           }
          ],
          "scatterpolar": [
           {
            "marker": {
             "colorbar": {
              "outlinewidth": 0,
              "ticks": ""
             }
            },
            "type": "scatterpolar"
           }
          ],
          "scatterpolargl": [
           {
            "marker": {
             "colorbar": {
              "outlinewidth": 0,
              "ticks": ""
             }
            },
            "type": "scatterpolargl"
           }
          ],
          "scatterternary": [
           {
            "marker": {
             "colorbar": {
              "outlinewidth": 0,
              "ticks": ""
             }
            },
            "type": "scatterternary"
           }
          ],
          "surface": [
           {
            "colorbar": {
             "outlinewidth": 0,
             "ticks": ""
            },
            "colorscale": [
             [
              0,
              "#0d0887"
             ],
             [
              0.1111111111111111,
              "#46039f"
             ],
             [
              0.2222222222222222,
              "#7201a8"
             ],
             [
              0.3333333333333333,
              "#9c179e"
             ],
             [
              0.4444444444444444,
              "#bd3786"
             ],
             [
              0.5555555555555556,
              "#d8576b"
             ],
             [
              0.6666666666666666,
              "#ed7953"
             ],
             [
              0.7777777777777778,
              "#fb9f3a"
             ],
             [
              0.8888888888888888,
              "#fdca26"
             ],
             [
              1,
              "#f0f921"
             ]
            ],
            "type": "surface"
           }
          ],
          "table": [
           {
            "cells": {
             "fill": {
              "color": "#EBF0F8"
             },
             "line": {
              "color": "white"
             }
            },
            "header": {
             "fill": {
              "color": "#C8D4E3"
             },
             "line": {
              "color": "white"
             }
            },
            "type": "table"
           }
          ]
         },
         "layout": {
          "annotationdefaults": {
           "arrowcolor": "#2a3f5f",
           "arrowhead": 0,
           "arrowwidth": 1
          },
          "autotypenumbers": "strict",
          "coloraxis": {
           "colorbar": {
            "outlinewidth": 0,
            "ticks": ""
           }
          },
          "colorscale": {
           "diverging": [
            [
             0,
             "#8e0152"
            ],
            [
             0.1,
             "#c51b7d"
            ],
            [
             0.2,
             "#de77ae"
            ],
            [
             0.3,
             "#f1b6da"
            ],
            [
             0.4,
             "#fde0ef"
            ],
            [
             0.5,
             "#f7f7f7"
            ],
            [
             0.6,
             "#e6f5d0"
            ],
            [
             0.7,
             "#b8e186"
            ],
            [
             0.8,
             "#7fbc41"
            ],
            [
             0.9,
             "#4d9221"
            ],
            [
             1,
             "#276419"
            ]
           ],
           "sequential": [
            [
             0,
             "#0d0887"
            ],
            [
             0.1111111111111111,
             "#46039f"
            ],
            [
             0.2222222222222222,
             "#7201a8"
            ],
            [
             0.3333333333333333,
             "#9c179e"
            ],
            [
             0.4444444444444444,
             "#bd3786"
            ],
            [
             0.5555555555555556,
             "#d8576b"
            ],
            [
             0.6666666666666666,
             "#ed7953"
            ],
            [
             0.7777777777777778,
             "#fb9f3a"
            ],
            [
             0.8888888888888888,
             "#fdca26"
            ],
            [
             1,
             "#f0f921"
            ]
           ],
           "sequentialminus": [
            [
             0,
             "#0d0887"
            ],
            [
             0.1111111111111111,
             "#46039f"
            ],
            [
             0.2222222222222222,
             "#7201a8"
            ],
            [
             0.3333333333333333,
             "#9c179e"
            ],
            [
             0.4444444444444444,
             "#bd3786"
            ],
            [
             0.5555555555555556,
             "#d8576b"
            ],
            [
             0.6666666666666666,
             "#ed7953"
            ],
            [
             0.7777777777777778,
             "#fb9f3a"
            ],
            [
             0.8888888888888888,
             "#fdca26"
            ],
            [
             1,
             "#f0f921"
            ]
           ]
          },
          "colorway": [
           "#636efa",
           "#EF553B",
           "#00cc96",
           "#ab63fa",
           "#FFA15A",
           "#19d3f3",
           "#FF6692",
           "#B6E880",
           "#FF97FF",
           "#FECB52"
          ],
          "font": {
           "color": "#2a3f5f"
          },
          "geo": {
           "bgcolor": "white",
           "lakecolor": "white",
           "landcolor": "#E5ECF6",
           "showlakes": true,
           "showland": true,
           "subunitcolor": "white"
          },
          "hoverlabel": {
           "align": "left"
          },
          "hovermode": "closest",
          "mapbox": {
           "style": "light"
          },
          "paper_bgcolor": "white",
          "plot_bgcolor": "#E5ECF6",
          "polar": {
           "angularaxis": {
            "gridcolor": "white",
            "linecolor": "white",
            "ticks": ""
           },
           "bgcolor": "#E5ECF6",
           "radialaxis": {
            "gridcolor": "white",
            "linecolor": "white",
            "ticks": ""
           }
          },
          "scene": {
           "xaxis": {
            "backgroundcolor": "#E5ECF6",
            "gridcolor": "white",
            "gridwidth": 2,
            "linecolor": "white",
            "showbackground": true,
            "ticks": "",
            "zerolinecolor": "white"
           },
           "yaxis": {
            "backgroundcolor": "#E5ECF6",
            "gridcolor": "white",
            "gridwidth": 2,
            "linecolor": "white",
            "showbackground": true,
            "ticks": "",
            "zerolinecolor": "white"
           },
           "zaxis": {
            "backgroundcolor": "#E5ECF6",
            "gridcolor": "white",
            "gridwidth": 2,
            "linecolor": "white",
            "showbackground": true,
            "ticks": "",
            "zerolinecolor": "white"
           }
          },
          "shapedefaults": {
           "line": {
            "color": "#2a3f5f"
           }
          },
          "ternary": {
           "aaxis": {
            "gridcolor": "white",
            "linecolor": "white",
            "ticks": ""
           },
           "baxis": {
            "gridcolor": "white",
            "linecolor": "white",
            "ticks": ""
           },
           "bgcolor": "#E5ECF6",
           "caxis": {
            "gridcolor": "white",
            "linecolor": "white",
            "ticks": ""
           }
          },
          "title": {
           "x": 0.05
          },
          "xaxis": {
           "automargin": true,
           "gridcolor": "white",
           "linecolor": "white",
           "ticks": "",
           "title": {
            "standoff": 15
           },
           "zerolinecolor": "white",
           "zerolinewidth": 2
          },
          "yaxis": {
           "automargin": true,
           "gridcolor": "white",
           "linecolor": "white",
           "ticks": "",
           "title": {
            "standoff": 15
           },
           "zerolinecolor": "white",
           "zerolinewidth": 2
          }
         }
        }
       }
      },
      "text/html": [
       "<div>                            <div id=\"94100b19-6578-4fbd-ae56-d2007e39b2c4\" class=\"plotly-graph-div\" style=\"height:525px; width:100%;\"></div>            <script type=\"text/javascript\">                require([\"plotly\"], function(Plotly) {                    window.PLOTLYENV=window.PLOTLYENV || {};                                    if (document.getElementById(\"94100b19-6578-4fbd-ae56-d2007e39b2c4\")) {                    Plotly.newPlot(                        \"94100b19-6578-4fbd-ae56-d2007e39b2c4\",                        [{\"branchvalues\":\"total\",\"domain\":{\"x\":[0.0,1.0],\"y\":[0.0,1.0]},\"hovertemplate\":\"labels=%{label}\\u003cbr\\u003ecount=%{value}\\u003cbr\\u003eparent=%{parent}\\u003cbr\\u003eid=%{id}\\u003cextra\\u003e\\u003c\\u002fextra\\u003e\",\"ids\":[\"ANDHRA PRADESH\",\"ASSAM\",\"BIHAR\",\"CHANDIGARH\",\"CHHATTISGARH\",\"DELHI\",\"GOA\",\"GUJARAT\",\"HARYANA\",\"HIMACHAL PRADESH\",\"JAMMU & KASHMIR\",\"JHARKHAND\",\"KARNATAKA\",\"KERALA\",\"LAKSHADWEEP\",\"MADHYA PRADESH\",\"MANIPUR\",\"MEGHALAYA\",\"MIZORAM\",\"NAGALAND\",\"ODISHA\",\"PUDUCHERRY\",\"PUNJAB\",\"RAJASTHAN\",\"TAMIL NADU\",\"TELANGANA\",\"TRIPURA\",\"UTTAR PRADESH\",\"UTTARAKHAND\",\"WEST BENGAL\"],\"labels\":[\"ANDHRA PRADESH\",\"ASSAM\",\"BIHAR\",\"CHANDIGARH\",\"CHHATTISGARH\",\"DELHI\",\"GOA\",\"GUJARAT\",\"HARYANA\",\"HIMACHAL PRADESH\",\"JAMMU & KASHMIR\",\"JHARKHAND\",\"KARNATAKA\",\"KERALA\",\"LAKSHADWEEP\",\"MADHYA PRADESH\",\"MANIPUR\",\"MEGHALAYA\",\"MIZORAM\",\"NAGALAND\",\"ODISHA\",\"PUDUCHERRY\",\"PUNJAB\",\"RAJASTHAN\",\"TAMIL NADU\",\"TELANGANA\",\"TRIPURA\",\"UTTAR PRADESH\",\"UTTARAKHAND\",\"WEST BENGAL\"],\"name\":\"\",\"parents\":[\"\",\"\",\"\",\"\",\"\",\"\",\"\",\"\",\"\",\"\",\"\",\"\",\"\",\"\",\"\",\"\",\"\",\"\",\"\",\"\",\"\",\"\",\"\",\"\",\"\",\"\",\"\",\"\",\"\",\"\"],\"values\":[25,45,5,1,2,3,9,21,4,5,30,6,165,18,3,35,18,7,4,2,15,3,3,20,9,125,18,4,2,13],\"type\":\"treemap\"}],                        {\"template\":{\"data\":{\"histogram2dcontour\":[{\"type\":\"histogram2dcontour\",\"colorbar\":{\"outlinewidth\":0,\"ticks\":\"\"},\"colorscale\":[[0.0,\"#0d0887\"],[0.1111111111111111,\"#46039f\"],[0.2222222222222222,\"#7201a8\"],[0.3333333333333333,\"#9c179e\"],[0.4444444444444444,\"#bd3786\"],[0.5555555555555556,\"#d8576b\"],[0.6666666666666666,\"#ed7953\"],[0.7777777777777778,\"#fb9f3a\"],[0.8888888888888888,\"#fdca26\"],[1.0,\"#f0f921\"]]}],\"choropleth\":[{\"type\":\"choropleth\",\"colorbar\":{\"outlinewidth\":0,\"ticks\":\"\"}}],\"histogram2d\":[{\"type\":\"histogram2d\",\"colorbar\":{\"outlinewidth\":0,\"ticks\":\"\"},\"colorscale\":[[0.0,\"#0d0887\"],[0.1111111111111111,\"#46039f\"],[0.2222222222222222,\"#7201a8\"],[0.3333333333333333,\"#9c179e\"],[0.4444444444444444,\"#bd3786\"],[0.5555555555555556,\"#d8576b\"],[0.6666666666666666,\"#ed7953\"],[0.7777777777777778,\"#fb9f3a\"],[0.8888888888888888,\"#fdca26\"],[1.0,\"#f0f921\"]]}],\"heatmap\":[{\"type\":\"heatmap\",\"colorbar\":{\"outlinewidth\":0,\"ticks\":\"\"},\"colorscale\":[[0.0,\"#0d0887\"],[0.1111111111111111,\"#46039f\"],[0.2222222222222222,\"#7201a8\"],[0.3333333333333333,\"#9c179e\"],[0.4444444444444444,\"#bd3786\"],[0.5555555555555556,\"#d8576b\"],[0.6666666666666666,\"#ed7953\"],[0.7777777777777778,\"#fb9f3a\"],[0.8888888888888888,\"#fdca26\"],[1.0,\"#f0f921\"]]}],\"heatmapgl\":[{\"type\":\"heatmapgl\",\"colorbar\":{\"outlinewidth\":0,\"ticks\":\"\"},\"colorscale\":[[0.0,\"#0d0887\"],[0.1111111111111111,\"#46039f\"],[0.2222222222222222,\"#7201a8\"],[0.3333333333333333,\"#9c179e\"],[0.4444444444444444,\"#bd3786\"],[0.5555555555555556,\"#d8576b\"],[0.6666666666666666,\"#ed7953\"],[0.7777777777777778,\"#fb9f3a\"],[0.8888888888888888,\"#fdca26\"],[1.0,\"#f0f921\"]]}],\"contourcarpet\":[{\"type\":\"contourcarpet\",\"colorbar\":{\"outlinewidth\":0,\"ticks\":\"\"}}],\"contour\":[{\"type\":\"contour\",\"colorbar\":{\"outlinewidth\":0,\"ticks\":\"\"},\"colorscale\":[[0.0,\"#0d0887\"],[0.1111111111111111,\"#46039f\"],[0.2222222222222222,\"#7201a8\"],[0.3333333333333333,\"#9c179e\"],[0.4444444444444444,\"#bd3786\"],[0.5555555555555556,\"#d8576b\"],[0.6666666666666666,\"#ed7953\"],[0.7777777777777778,\"#fb9f3a\"],[0.8888888888888888,\"#fdca26\"],[1.0,\"#f0f921\"]]}],\"surface\":[{\"type\":\"surface\",\"colorbar\":{\"outlinewidth\":0,\"ticks\":\"\"},\"colorscale\":[[0.0,\"#0d0887\"],[0.1111111111111111,\"#46039f\"],[0.2222222222222222,\"#7201a8\"],[0.3333333333333333,\"#9c179e\"],[0.4444444444444444,\"#bd3786\"],[0.5555555555555556,\"#d8576b\"],[0.6666666666666666,\"#ed7953\"],[0.7777777777777778,\"#fb9f3a\"],[0.8888888888888888,\"#fdca26\"],[1.0,\"#f0f921\"]]}],\"mesh3d\":[{\"type\":\"mesh3d\",\"colorbar\":{\"outlinewidth\":0,\"ticks\":\"\"}}],\"scatter\":[{\"fillpattern\":{\"fillmode\":\"overlay\",\"size\":10,\"solidity\":0.2},\"type\":\"scatter\"}],\"parcoords\":[{\"type\":\"parcoords\",\"line\":{\"colorbar\":{\"outlinewidth\":0,\"ticks\":\"\"}}}],\"scatterpolargl\":[{\"type\":\"scatterpolargl\",\"marker\":{\"colorbar\":{\"outlinewidth\":0,\"ticks\":\"\"}}}],\"bar\":[{\"error_x\":{\"color\":\"#2a3f5f\"},\"error_y\":{\"color\":\"#2a3f5f\"},\"marker\":{\"line\":{\"color\":\"#E5ECF6\",\"width\":0.5},\"pattern\":{\"fillmode\":\"overlay\",\"size\":10,\"solidity\":0.2}},\"type\":\"bar\"}],\"scattergeo\":[{\"type\":\"scattergeo\",\"marker\":{\"colorbar\":{\"outlinewidth\":0,\"ticks\":\"\"}}}],\"scatterpolar\":[{\"type\":\"scatterpolar\",\"marker\":{\"colorbar\":{\"outlinewidth\":0,\"ticks\":\"\"}}}],\"histogram\":[{\"marker\":{\"pattern\":{\"fillmode\":\"overlay\",\"size\":10,\"solidity\":0.2}},\"type\":\"histogram\"}],\"scattergl\":[{\"type\":\"scattergl\",\"marker\":{\"colorbar\":{\"outlinewidth\":0,\"ticks\":\"\"}}}],\"scatter3d\":[{\"type\":\"scatter3d\",\"line\":{\"colorbar\":{\"outlinewidth\":0,\"ticks\":\"\"}},\"marker\":{\"colorbar\":{\"outlinewidth\":0,\"ticks\":\"\"}}}],\"scattermapbox\":[{\"type\":\"scattermapbox\",\"marker\":{\"colorbar\":{\"outlinewidth\":0,\"ticks\":\"\"}}}],\"scatterternary\":[{\"type\":\"scatterternary\",\"marker\":{\"colorbar\":{\"outlinewidth\":0,\"ticks\":\"\"}}}],\"scattercarpet\":[{\"type\":\"scattercarpet\",\"marker\":{\"colorbar\":{\"outlinewidth\":0,\"ticks\":\"\"}}}],\"carpet\":[{\"aaxis\":{\"endlinecolor\":\"#2a3f5f\",\"gridcolor\":\"white\",\"linecolor\":\"white\",\"minorgridcolor\":\"white\",\"startlinecolor\":\"#2a3f5f\"},\"baxis\":{\"endlinecolor\":\"#2a3f5f\",\"gridcolor\":\"white\",\"linecolor\":\"white\",\"minorgridcolor\":\"white\",\"startlinecolor\":\"#2a3f5f\"},\"type\":\"carpet\"}],\"table\":[{\"cells\":{\"fill\":{\"color\":\"#EBF0F8\"},\"line\":{\"color\":\"white\"}},\"header\":{\"fill\":{\"color\":\"#C8D4E3\"},\"line\":{\"color\":\"white\"}},\"type\":\"table\"}],\"barpolar\":[{\"marker\":{\"line\":{\"color\":\"#E5ECF6\",\"width\":0.5},\"pattern\":{\"fillmode\":\"overlay\",\"size\":10,\"solidity\":0.2}},\"type\":\"barpolar\"}],\"pie\":[{\"automargin\":true,\"type\":\"pie\"}]},\"layout\":{\"autotypenumbers\":\"strict\",\"colorway\":[\"#636efa\",\"#EF553B\",\"#00cc96\",\"#ab63fa\",\"#FFA15A\",\"#19d3f3\",\"#FF6692\",\"#B6E880\",\"#FF97FF\",\"#FECB52\"],\"font\":{\"color\":\"#2a3f5f\"},\"hovermode\":\"closest\",\"hoverlabel\":{\"align\":\"left\"},\"paper_bgcolor\":\"white\",\"plot_bgcolor\":\"#E5ECF6\",\"polar\":{\"bgcolor\":\"#E5ECF6\",\"angularaxis\":{\"gridcolor\":\"white\",\"linecolor\":\"white\",\"ticks\":\"\"},\"radialaxis\":{\"gridcolor\":\"white\",\"linecolor\":\"white\",\"ticks\":\"\"}},\"ternary\":{\"bgcolor\":\"#E5ECF6\",\"aaxis\":{\"gridcolor\":\"white\",\"linecolor\":\"white\",\"ticks\":\"\"},\"baxis\":{\"gridcolor\":\"white\",\"linecolor\":\"white\",\"ticks\":\"\"},\"caxis\":{\"gridcolor\":\"white\",\"linecolor\":\"white\",\"ticks\":\"\"}},\"coloraxis\":{\"colorbar\":{\"outlinewidth\":0,\"ticks\":\"\"}},\"colorscale\":{\"sequential\":[[0.0,\"#0d0887\"],[0.1111111111111111,\"#46039f\"],[0.2222222222222222,\"#7201a8\"],[0.3333333333333333,\"#9c179e\"],[0.4444444444444444,\"#bd3786\"],[0.5555555555555556,\"#d8576b\"],[0.6666666666666666,\"#ed7953\"],[0.7777777777777778,\"#fb9f3a\"],[0.8888888888888888,\"#fdca26\"],[1.0,\"#f0f921\"]],\"sequentialminus\":[[0.0,\"#0d0887\"],[0.1111111111111111,\"#46039f\"],[0.2222222222222222,\"#7201a8\"],[0.3333333333333333,\"#9c179e\"],[0.4444444444444444,\"#bd3786\"],[0.5555555555555556,\"#d8576b\"],[0.6666666666666666,\"#ed7953\"],[0.7777777777777778,\"#fb9f3a\"],[0.8888888888888888,\"#fdca26\"],[1.0,\"#f0f921\"]],\"diverging\":[[0,\"#8e0152\"],[0.1,\"#c51b7d\"],[0.2,\"#de77ae\"],[0.3,\"#f1b6da\"],[0.4,\"#fde0ef\"],[0.5,\"#f7f7f7\"],[0.6,\"#e6f5d0\"],[0.7,\"#b8e186\"],[0.8,\"#7fbc41\"],[0.9,\"#4d9221\"],[1,\"#276419\"]]},\"xaxis\":{\"gridcolor\":\"white\",\"linecolor\":\"white\",\"ticks\":\"\",\"title\":{\"standoff\":15},\"zerolinecolor\":\"white\",\"automargin\":true,\"zerolinewidth\":2},\"yaxis\":{\"gridcolor\":\"white\",\"linecolor\":\"white\",\"ticks\":\"\",\"title\":{\"standoff\":15},\"zerolinecolor\":\"white\",\"automargin\":true,\"zerolinewidth\":2},\"scene\":{\"xaxis\":{\"backgroundcolor\":\"#E5ECF6\",\"gridcolor\":\"white\",\"linecolor\":\"white\",\"showbackground\":true,\"ticks\":\"\",\"zerolinecolor\":\"white\",\"gridwidth\":2},\"yaxis\":{\"backgroundcolor\":\"#E5ECF6\",\"gridcolor\":\"white\",\"linecolor\":\"white\",\"showbackground\":true,\"ticks\":\"\",\"zerolinecolor\":\"white\",\"gridwidth\":2},\"zaxis\":{\"backgroundcolor\":\"#E5ECF6\",\"gridcolor\":\"white\",\"linecolor\":\"white\",\"showbackground\":true,\"ticks\":\"\",\"zerolinecolor\":\"white\",\"gridwidth\":2}},\"shapedefaults\":{\"line\":{\"color\":\"#2a3f5f\"}},\"annotationdefaults\":{\"arrowcolor\":\"#2a3f5f\",\"arrowhead\":0,\"arrowwidth\":1},\"geo\":{\"bgcolor\":\"white\",\"landcolor\":\"#E5ECF6\",\"subunitcolor\":\"white\",\"showland\":true,\"showlakes\":true,\"lakecolor\":\"white\"},\"title\":{\"x\":0.05},\"mapbox\":{\"style\":\"light\"}}},\"legend\":{\"tracegroupgap\":0},\"margin\":{\"t\":60}},                        {\"responsive\": true}                    ).then(function(){\n",
       "                            \n",
       "var gd = document.getElementById('94100b19-6578-4fbd-ae56-d2007e39b2c4');\n",
       "var x = new MutationObserver(function (mutations, observer) {{\n",
       "        var display = window.getComputedStyle(gd).display;\n",
       "        if (!display || display === 'none') {{\n",
       "            console.log([gd, 'removed!']);\n",
       "            Plotly.purge(gd);\n",
       "            observer.disconnect();\n",
       "        }}\n",
       "}});\n",
       "\n",
       "// Listen for the removal of the full notebook cells\n",
       "var notebookContainer = gd.closest('#notebook-container');\n",
       "if (notebookContainer) {{\n",
       "    x.observe(notebookContainer, {childList: true});\n",
       "}}\n",
       "\n",
       "// Listen for the clearing of the current output cell\n",
       "var outputEl = gd.closest('.output');\n",
       "if (outputEl) {{\n",
       "    x.observe(outputEl, {childList: true});\n",
       "}}\n",
       "\n",
       "                        })                };                });            </script>        </div>"
      ]
     },
     "metadata": {},
     "output_type": "display_data"
    }
   ],
   "source": [
    "import plotly.express as px\n",
    "\n",
    "ax= px.treemap(d,path=[\"State Name\"])\n",
    "ax.show()"
   ]
  },
  {
   "cell_type": "code",
   "execution_count": null,
   "metadata": {},
   "outputs": [
    {
     "data": {
      "image/png": "[encoded data removed]",
      "text/plain": [
       "<Figure size 432x216 with 1 Axes>"
      ]
     },
     "metadata": {
      "needs_background": "light"
     },
     "output_type": "display_data"
    },
    {
     "data": {
      "image/png": "[encoded data removed]",
      "text/plain": [
       "<Figure size 432x216 with 1 Axes>"
      ]
     },
     "metadata": {
      "needs_background": "light"
     },
     "output_type": "display_data"
    },
    {
     "data": {
      "image/png": "[encoded data removed]",
      "text/plain": [
       "<Figure size 432x216 with 1 Axes>"
      ]
     },
     "metadata": {
      "needs_background": "light"
     },
     "output_type": "display_data"
    },
    {
     "data": {
      "image/png": "[encoded data removed]",
      "text/plain": [
       "<Figure size 432x216 with 1 Axes>"
      ]
     },
     "metadata": {
      "needs_background": "light"
     },
     "output_type": "display_data"
    },
    {
     "data": {
      "image/png": "[encoded data removed]",
      "text/plain": [
       "<Figure size 432x216 with 1 Axes>"
      ]
     },
     "metadata": {
      "needs_background": "light"
     },
     "output_type": "display_data"
    },
    {
     "data": {
      "image/png": "[encoded data removed]",
      "text/plain": [
       "<Figure size 432x216 with 1 Axes>"
      ]
     },
     "metadata": {
      "needs_background": "light"
     },
     "output_type": "display_data"
    },
    {
     "data": {
      "image/png": "[encoded data removed]",
      "text/plain": [
       "<Figure size 432x216 with 1 Axes>"
      ]
     },
     "metadata": {
      "needs_background": "light"
     },
     "output_type": "display_data"
    },
    {
     "data": {
      "image/png": "[encoded data removed]",
      "text/plain": [
       "<Figure size 432x216 with 1 Axes>"
      ]
     },
     "metadata": {
      "needs_background": "light"
     },
     "output_type": "display_data"
    },
    {
     "data": {
      "image/png": "[encoded data removed]",
      "text/plain": [
       "<Figure size 432x216 with 1 Axes>"
      ]
     },
     "metadata": {
      "needs_background": "light"
     },
     "output_type": "display_data"
    },
    {
     "data": {
      "image/png": "[encoded data removed]",
      "text/plain": [
       "<Figure size 432x216 with 1 Axes>"
      ]
     },
     "metadata": {
      "needs_background": "light"
     },
     "output_type": "display_data"
    },
    {
     "data": {
      "image/png": "[encoded data removed]",
      "text/plain": [
       "<Figure size 432x216 with 1 Axes>"
      ]
     },
     "metadata": {
      "needs_background": "light"
     },
     "output_type": "display_data"
    },
    {
     "data": {
      "image/png": "[encoded data removed]",
      "text/plain": [
       "<Figure size 432x216 with 1 Axes>"
      ]
     },
     "metadata": {
      "needs_background": "light"
     },
     "output_type": "display_data"
    },
    {
     "data": {
      "image/png": "[encoded data removed]",
      "text/plain": [
       "<Figure size 432x216 with 1 Axes>"
      ]
     },
     "metadata": {
      "needs_background": "light"
     },
     "output_type": "display_data"
    }
   ],
   "source": [
    "def hist(var):\n",
    "    plt.figure(figsize = (6,3))\n",
    "    sns.histplot(data = d, x = d[var])\n",
    "    plt.xlabel(var)\n",
    "    plt.ylabel(\"count\")\n",
    "    plt.show()\n",
    "\n",
    "params = ['Temperature\\n?C (Min)', 'Temperature\\n?C (Max)',\n",
    "       'Dissolved Oxygen (mg/L) (Min)', 'Dissolved Oxygen (mg/L) (Max)',\n",
    "       'pH (Min)', 'pH (Max)', 'Conductivity (?mhos/cm) (Min)',\n",
    "       'Conductivity (?mhos/cm) (Max)', 'BOD (mg/L) (Min)', 'BOD (mg/L) (Max)',\n",
    "       'Nitrate N + Nitrite N(mg/L) (Min)',\n",
    "       'Nitrate N + Nitrite N(mg/L) (Max)', 'Fecal Coliform (MPN/100ml) (Min)',\n",
    "       'Fecal Coliform (MPN/100ml) (Max)', 'Total Coliform (MPN/100ml) (Min)',\n",
    "       'Total Coliform (MPN/100ml) (Max)']\n",
    "for n in params:\n",
    "    hist(n)"
   ]
  },
  {
   "cell_type": "markdown",
   "metadata": {},
   "source": [
    "# Factors affecting quality of water"
   ]
  },
  {
   "cell_type": "markdown",
   "metadata": {},
   "source": [
    "#  Temperature\n"
   ]
  },
  {
   "cell_type": "markdown",
   "metadata": {},
   "source": [
    "optimum temperature range **20°C to 30°C**."
   ]
  },
  {
   "cell_type": "code",
   "execution_count": null,
   "metadata": {
    "execution": {
     "iopub.execute_input": "2023-01-30T06:41:07.683126Z",
     "iopub.status.busy": "2023-01-30T06:41:07.682249Z",
     "iopub.status.idle": "2023-01-30T06:41:07.716925Z",
     "shell.execute_reply": "2023-01-30T06:41:07.715652Z",
     "shell.execute_reply.started": "2023-01-30T06:41:07.683074Z"
    }
   },
   "outputs": [],
   "source": [
    "y = df.loc[(df['Temperature\\n?C (Min)'] >= 20)]\n",
    "y = df.loc[(df['Temperature\\n?C (Max)'] <= 30)]\n",
    "valuelist = ['Temperature\\n?C (Min)','Temperature\\n?C (Max)']\n",
    "y = y.pivot_table(index=['State Name'],\n",
    "                    values = valuelist, \n",
    "               aggfunc='count'\n",
    ")"
   ]
  },
  {
   "cell_type": "code",
   "execution_count": null,
   "metadata": {},
   "outputs": [],
   "source": [
    "y.plot(kind='bar',figsize=(20,20))\n",
    "plt.xlabel('State ')\n",
    "plt.ylabel('Count')\n",
    "plt.title('Bar Graph')\n",
    "plt.legend()\n",
    "plt.show()"
   ]
  },
  {
   "cell_type": "markdown",
   "metadata": {},
   "source": [
    "# Dissolved Oxygen\n"
   ]
  },
  {
   "cell_type": "markdown",
   "metadata": {},
   "source": [
    "The value of dissolved oxygen should ideally be between **4 (mg/L) - 8 (mg/L)**."
   ]
  },
  {
   "cell_type": "code",
   "execution_count": null,
   "metadata": {
    "execution": {
     "iopub.execute_input": "2023-01-30T06:41:07.730524Z",
     "iopub.status.busy": "2023-01-30T06:41:07.730104Z",
     "iopub.status.idle": "2023-01-30T06:41:07.76615Z",
     "shell.execute_reply": "2023-01-30T06:41:07.764692Z",
     "shell.execute_reply.started": "2023-01-30T06:41:07.730477Z"
    }
   },
   "outputs": [],
   "source": [
    "df = d.loc[(d['Dissolved Oxygen (mg/L) (Min)'] >= 4)]\n",
    "df = d.loc[(d['Dissolved Oxygen (mg/L) (Max)'] <= 8)]\n",
    "\n",
    "valuelist = ['Dissolved Oxygen (mg/L) (Min)','Dissolved Oxygen (mg/L) (Max)']\n",
    "df = df.pivot_table(index=['State Name'],\n",
    "                    values = valuelist, \n",
    "               aggfunc='count'\n",
    ")\n",
    "\n",
    "\n",
    "df.plot(kind='bar',figsize=(20,20))\n",
    "plt.xlabel('State ')\n",
    "plt.ylabel('Count')\n",
    "plt.title('Bar Graph')\n",
    "plt.legend()\n",
    "plt.show()"
   ]
  },
  {
   "cell_type": "markdown",
   "metadata": {
    "execution": {
     "iopub.execute_input": "2022-11-03T00:58:09.462052Z",
     "iopub.status.busy": "2022-11-03T00:58:09.461676Z",
     "iopub.status.idle": "2022-11-03T00:58:09.477902Z",
     "shell.execute_reply": "2022-11-03T00:58:09.476616Z",
     "shell.execute_reply.started": "2022-11-03T00:58:09.462005Z"
    }
   },
   "source": [
    "# pH"
   ]
  },
  {
   "cell_type": "markdown",
   "metadata": {},
   "source": [
    "pH value ranges from **6 - 8** for optimum water quality."
   ]
  },
  {
   "cell_type": "code",
   "execution_count": null,
   "metadata": {
    "execution": {
     "iopub.execute_input": "2023-01-30T06:41:07.782762Z",
     "iopub.status.busy": "2023-01-30T06:41:07.780681Z",
     "iopub.status.idle": "2023-01-30T06:41:07.8177Z",
     "shell.execute_reply": "2023-01-30T06:41:07.816429Z",
     "shell.execute_reply.started": "2023-01-30T06:41:07.782669Z"
    }
   },
   "outputs": [],
   "source": [
    "df = d.loc[(d['pH (Min)'] >= 6)]\n",
    "df = d.loc[(d['pH (Min)'] <= 8)]\n",
    "\n",
    "valuelist = ['pH (Min)','pH (Min)']\n",
    "df = df.pivot_table(index=['State Name'],\n",
    "                    values = valuelist, \n",
    "               aggfunc='count'\n",
    ")\n",
    "\n",
    "\n",
    "df.plot(kind='bar',figsize=(20,20))\n",
    "plt.xlabel('State ')\n",
    "plt.ylabel('Count')\n",
    "plt.title('Bar Graph')\n",
    "plt.legend()\n",
    "plt.show()"
   ]
  },
  {
   "cell_type": "markdown",
   "metadata": {},
   "source": [
    "# Biochemical oxygen demand (BOD) \n"
   ]
  },
  {
   "cell_type": "code",
   "execution_count": null,
   "metadata": {
    "execution": {
     "iopub.execute_input": "2023-01-30T06:41:07.879087Z",
     "iopub.status.busy": "2023-01-30T06:41:07.878686Z",
     "iopub.status.idle": "2023-01-30T06:41:07.915302Z",
     "shell.execute_reply": "2023-01-30T06:41:07.913972Z",
     "shell.execute_reply.started": "2023-01-30T06:41:07.879051Z"
    }
   },
   "outputs": [],
   "source": [
    "df = d.loc[(d['BOD (mg/L) (Max)'] <= 5)]\n",
    "\n",
    "valuelist = ['BOD (mg/L) (Max)']\n",
    "df = df.pivot_table(index=['State Name'],\n",
    "                    values = valuelist, \n",
    "               aggfunc='count'\n",
    ")\n",
    "\n",
    "\n",
    "df.plot(kind='bar',figsize=(20,20))\n",
    "plt.xlabel('State ')\n",
    "plt.ylabel('Count')\n",
    "plt.title('Bar Graph')\n",
    "plt.legend()\n",
    "plt.show()"
   ]
  },
  {
   "cell_type": "markdown",
   "metadata": {},
   "source": [
    "# Total Coliform \n"
   ]
  },
  {
   "cell_type": "code",
   "execution_count": null,
   "metadata": {
    "execution": {
     "iopub.execute_input": "2023-01-30T06:41:08.030491Z",
     "iopub.status.busy": "2023-01-30T06:41:08.029984Z",
     "iopub.status.idle": "2023-01-30T06:41:08.066288Z",
     "shell.execute_reply": "2023-01-30T06:41:08.064695Z",
     "shell.execute_reply.started": "2023-01-30T06:41:08.030443Z"
    }
   },
   "outputs": [],
   "source": [
    "df = d.loc[(d['Total Coliform (MPN/100ml) (Max)'] <= 500)]\n",
    "\n",
    "valuelist = ['Total Coliform (MPN/100ml) (Max)']\n",
    "df = df.pivot_table(index=['State Name'],\n",
    "                    values = valuelist, \n",
    "               aggfunc='count'\n",
    ")\n",
    "\n",
    "\n",
    "df.plot(kind='bar',figsize=(20,20))\n",
    "plt.xlabel('State ')\n",
    "plt.ylabel('Count')\n",
    "plt.title('Bar Graph')\n",
    "plt.legend()\n",
    "plt.show()"
   ]
  }
 ],
 "metadata": {
  "kernelspec": {
   "display_name": "Python 3",
   "language": "python",
   "name": "python3"
  },
  "language_info": {
   "codemirror_mode": {
    "name": "ipython",
    "version": 3
   },
   "file_extension": ".py",
   "mimetype": "text/x-python",
   "name": "python",
   "nbconvert_exporter": "python",
   "pygments_lexer": "ipython3",
   "version": "3.7.6"
  }
 },
 "nbformat": 4,
 "nbformat_minor": 4
}
